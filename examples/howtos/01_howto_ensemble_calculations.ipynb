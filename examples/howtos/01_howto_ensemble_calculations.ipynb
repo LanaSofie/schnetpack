{
 "cells": [
  {
   "cell_type": "code",
   "execution_count": 1,
   "id": "e16f3450",
   "metadata": {},
   "outputs": [],
   "source": [
    "import os\n",
    "import torch\n",
    "import random\n",
    "import shutil\n",
    "import time\n",
    "import numpy as np\n",
    "from tqdm import tqdm \n",
    "from matplotlib import pyplot as plt\n",
    "from typing import Optional, List, Union, Dict\n",
    "\n",
    "import ase\n",
    "from ase.io import read, write\n",
    "from ase import Atoms\n",
    "from ase.optimize.lbfgs import LBFGS\n",
    "from ase.optimize import QuasiNewton\n",
    "\n",
    "import schnetpack as spk\n",
    "from schnetpack import properties\n",
    "from schnetpack.interfaces.ase_interface import AtomsConverter, AseInterface\n",
    "from schnetpack.interfaces.ensemble_calculator import EnsembleCalculator, SpkCalculator\n",
    "from schnetpack.interfaces.batchwise_optimization import ASEBatchwiseLBFGS, BatchwiseCalculator"
   ]
  },
  {
   "cell_type": "code",
   "execution_count": 2,
   "id": "de84941e",
   "metadata": {},
   "outputs": [],
   "source": [
    "# TODO: Markdown comments, uncertainty evaluation example"
   ]
  },
  {
   "cell_type": "code",
   "execution_count": 3,
   "id": "58a19166",
   "metadata": {},
   "outputs": [],
   "source": [
    "model_path_0 = \"/home/jonas/Documents/schnetpack/tests/testdata/md_ethanol.model\"\n",
    "model_path_1 = \"/home/jonas/Documents/schnetpack/tests/testdata/md_ethanol.model\"\n",
    "\n",
    "# set device\n",
    "device = torch.device(\"cuda\")\n",
    "\n",
    "# define neighbor list\n",
    "cutoff = 5.0\n",
    "nbh_list=spk.transform.MatScipyNeighborList(cutoff=cutoff)\n",
    "\n",
    "# Set up calculator\n",
    "calculator = EnsembleCalculator(\n",
    "    model=[model_path_0, model_path_1],\n",
    "    neighbor_list=nbh_list,\n",
    "    energy_unit=\"kcal/mol\",\n",
    "    position_unit=\"Angstrom\",\n",
    "    device=device,\n",
    ")"
   ]
  },
  {
   "cell_type": "code",
   "execution_count": 4,
   "id": "34d4bce9",
   "metadata": {},
   "outputs": [],
   "source": [
    "input_structure_file = \"../../tests/testdata/md_ethanol.xyz\"\n",
    "random.seed(42)\n",
    "\n",
    "# Setup directory\n",
    "if not os.path.exists('howto_ensemble_relaxations_outputs'):\n",
    "    os.makedirs('howto_ensemble_relaxations_outputs')\n",
    "working_dir = \"howto_ensemble_relaxations_outputs/relax\"\n",
    "if os.path.exists(working_dir):\n",
    "    shutil.rmtree(working_dir)\n",
    "os.makedirs(working_dir)\n",
    "\n",
    "# load initial structure\n",
    "mol = read(input_structure_file)\n",
    "pos = mol.get_positions()\n",
    "# distort the structure\n",
    "for n in range(pos.shape[0]):\n",
    "    pos[n] = pos[n] * random.uniform(0.95,1.05)\n",
    "molecule = Atoms(positions=pos, numbers=mol.get_atomic_numbers())\n",
    "molecule.calc = calculator"
   ]
  },
  {
   "cell_type": "code",
   "execution_count": 5,
   "id": "c6ebb93d",
   "metadata": {},
   "outputs": [
    {
     "name": "stdout",
     "output_type": "stream",
     "text": [
      "       Step     Time          Energy         fmax\n",
      "LBFGS:    0 14:58:07    -4208.208776        9.6160\n",
      "LBFGS:    1 14:58:07    -4209.343051        5.9222\n",
      "LBFGS:    2 14:58:07    -4209.930915        2.7088\n",
      "LBFGS:    3 14:58:07    -4210.075855        1.5142\n",
      "LBFGS:    4 14:58:07    -4210.117326        0.5858\n",
      "LBFGS:    5 14:58:07    -4210.156747        0.4284\n",
      "LBFGS:    6 14:58:07    -4210.189389        0.4514\n",
      "LBFGS:    7 14:58:07    -4210.199779        0.3549\n",
      "LBFGS:    8 14:58:07    -4210.206293        0.2580\n",
      "LBFGS:    9 14:58:08    -4210.209682        0.1759\n",
      "LBFGS:   10 14:58:08    -4210.212134        0.1565\n",
      "LBFGS:   11 14:58:08    -4210.213689        0.1077\n",
      "LBFGS:   12 14:58:08    -4210.214780        0.0776\n",
      "LBFGS:   13 14:58:08    -4210.215383        0.0685\n",
      "LBFGS:   14 14:58:08    -4210.215853        0.0723\n",
      "LBFGS:   15 14:58:08    -4210.216322        0.0650\n",
      "LBFGS:   16 14:58:08    -4210.216701        0.0550\n",
      "LBFGS:   17 14:58:08    -4210.216910        0.0435\n",
      "LBFGS:   18 14:58:08    -4210.217032        0.0410\n",
      "LBFGS:   19 14:58:08    -4210.217155        0.0404\n",
      "LBFGS:   20 14:58:08    -4210.217283        0.0321\n",
      "LBFGS:   21 14:58:08    -4210.217369        0.0250\n",
      "LBFGS:   22 14:58:08    -4210.217416        0.0180\n",
      "LBFGS:   23 14:58:08    -4210.217449        0.0176\n",
      "LBFGS:   24 14:58:08    -4210.217486        0.0190\n",
      "LBFGS:   25 14:58:08    -4210.217524        0.0201\n",
      "LBFGS:   26 14:58:09    -4210.217556        0.0161\n",
      "LBFGS:   27 14:58:09    -4210.217585        0.0173\n",
      "LBFGS:   28 14:58:09    -4210.217621        0.0224\n",
      "LBFGS:   29 14:58:09    -4210.217659        0.0203\n",
      "LBFGS:   30 14:58:09    -4210.217693        0.0168\n",
      "LBFGS:   31 14:58:09    -4210.217722        0.0129\n",
      "LBFGS:   32 14:58:09    -4210.217751        0.0183\n",
      "LBFGS:   33 14:58:09    -4210.217778        0.0165\n",
      "LBFGS:   34 14:58:09    -4210.217797        0.0119\n",
      "LBFGS:   35 14:58:09    -4210.217814        0.0123\n",
      "LBFGS:   36 14:58:09    -4210.217833        0.0175\n",
      "LBFGS:   37 14:58:09    -4210.217863        0.0279\n",
      "LBFGS:   38 14:58:09    -4210.217901        0.0289\n",
      "LBFGS:   39 14:58:09    -4210.217925        0.0162\n",
      "LBFGS:   40 14:58:09    -4210.217933        0.0040\n",
      "LBFGS:   41 14:58:09    -4210.217933        0.0017\n",
      "LBFGS:   42 14:58:09    -4210.217934        0.0018\n",
      "LBFGS:   43 14:58:09    -4210.217934        0.0016\n",
      "LBFGS:   44 14:58:10    -4210.217934        0.0011\n",
      "LBFGS:   45 14:58:10    -4210.217933        0.0005\n"
     ]
    },
    {
     "data": {
      "text/plain": [
       "True"
      ]
     },
     "execution_count": 5,
     "metadata": {},
     "output_type": "execute_result"
    }
   ],
   "source": [
    "# run relaxation\n",
    "optimize_file = os.path.join(working_dir, \"optimization\")\n",
    "optimizer = LBFGS(\n",
    "    molecule,\n",
    "    trajectory=\"{:s}.traj\".format(optimize_file),\n",
    "    restart=\"{:s}.pkl\".format(optimize_file),\n",
    ")\n",
    "optimizer.run(fmax=0.001, steps=1000)"
   ]
  },
  {
   "cell_type": "code",
   "execution_count": null,
   "id": "0b89a73c",
   "metadata": {},
   "outputs": [],
   "source": []
  }
 ],
 "metadata": {
  "kernelspec": {
   "display_name": "Python 3 (ipykernel)",
   "language": "python",
   "name": "python3"
  },
  "language_info": {
   "codemirror_mode": {
    "name": "ipython",
    "version": 3
   },
   "file_extension": ".py",
   "mimetype": "text/x-python",
   "name": "python",
   "nbconvert_exporter": "python",
   "pygments_lexer": "ipython3",
   "version": "3.8.13"
  }
 },
 "nbformat": 4,
 "nbformat_minor": 5
}
