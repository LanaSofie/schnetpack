{
 "cells": [
  {
   "cell_type": "markdown",
   "id": "d100d71c",
   "metadata": {},
   "source": [
    "# Batch-wise Structure Relaxation"
   ]
  },
  {
   "cell_type": "markdown",
   "id": "cd51dfe1",
   "metadata": {},
   "source": [
    "In this tutorial, we show how to use the ``TorchStructureLBFGS``. It enables relaxation of structures in a batch-wise manner, i.e. it optimizes multiple structures in parallel. This is particularly useful, when many relatively similar structures (--> similar time until convergence) should be relaxed while requiring possibly short simulation time."
   ]
  },
  {
   "cell_type": "code",
   "execution_count": null,
   "id": "3f71b17f",
   "metadata": {},
   "outputs": [],
   "source": [
    "import torch\n",
    "from ase.io import read\n",
    "from ase import Atoms\n",
    "import random\n",
    "\n",
    "import schnetpack as spk\n",
    "from schnetpack import properties\n",
    "from schnetpack.interfaces.ase_interface import AtomsConverter\n",
    "from schnetpack.interfaces.batchwise_optimization import ASEBatchwiseLBFGS\n",
    "from schnetpack.interfaces.batchwise_optimization import BatchwiseCalculator as BatchwiseCalculatorOld\n",
    "from schnetpack.interfaces.ensemble_calculator import BatchwiseEnsembleCalculator, BatchwiseCalculator"
   ]
  },
  {
   "cell_type": "markdown",
   "id": "6339e784",
   "metadata": {},
   "source": [
    "First, we load the force field model that provides the forces for the relaxation process. Furthermore, we define the atoms converter, which is used to convert ase Atoms objects to SchNetPack input. Eventually the calculator is initialized. The latter provides the necessary functionality to load a model and calculates forces and energy for the respective structures."
   ]
  },
  {
   "cell_type": "code",
   "execution_count": null,
   "id": "7be235c2",
   "metadata": {},
   "outputs": [],
   "source": [
    "model_path = \"../../tests/testdata/md_ethanol.model\"\n",
    "\n",
    "# set device\n",
    "device = torch.device(\"cuda\")\n",
    "dtype = torch.float32\n",
    "\n",
    "# load model\n",
    "model = torch.load(model_path, map_location=device)\n",
    "\n",
    "# define neighbor list\n",
    "cutoff = model.representation.cutoff.item()\n",
    "nbh_list=spk.transform.MatScipyNeighborList(cutoff=cutoff)\n",
    "\n",
    "# build calculator\n",
    "calculator_old = BatchwiseCalculatorOld(\n",
    "    model=model_path,\n",
    "    atoms_converter=AtomsConverter(\n",
    "        neighbor_list=nbh_list,\n",
    "        device=device,\n",
    "    ),\n",
    "    device=device,\n",
    "    energy_unit=\"kcal/mol\",\n",
    "    position_unit=\"Ang\",\n",
    ")\n",
    "\n",
    "calculator_ensemble = BatchwiseEnsembleCalculator(\n",
    "    model=[model_path, model_path],\n",
    "    neighbor_list=nbh_list,\n",
    "    energy_key=\"energy\",\n",
    "    force_key=\"forces\",\n",
    "    energy_unit=\"kcal/mol\",\n",
    "    position_unit=\"Angstrom\",\n",
    "    device=device,\n",
    "    dtype=dtype\n",
    "    #converter=AtomsConverter,\n",
    "    #transforms=None\n",
    "    #additional_inputs=None,\n",
    "    #auxiliary_output_modules=None,\n",
    "    #ensemble_average_strategy=None,\n",
    ")\n",
    "\n",
    "calculator_new = BatchwiseCalculator(\n",
    "    model=model_path,\n",
    "    neighbor_list=nbh_list,\n",
    "    energy_key=\"energy\",\n",
    "    force_key=\"forces\",\n",
    "    energy_unit=\"kcal/mol\",\n",
    "    position_unit=\"Angstrom\",\n",
    "    device=device,\n",
    "    dtype=dtype\n",
    "    #converter=AtomsConverter,\n",
    "    #transforms=None\n",
    "    #additional_inputs=None,\n",
    "    #auxiliary_output_modules=None,\n",
    "    #ensemble_average_strategy=None,\n",
    ")"
   ]
  },
  {
   "cell_type": "markdown",
   "id": "66f87158",
   "metadata": {},
   "source": [
    "Subsequently, we load the batch of initial structures utilizing ASE (supports xyz, db and more)."
   ]
  },
  {
   "cell_type": "code",
   "execution_count": null,
   "id": "7dce8b36",
   "metadata": {},
   "outputs": [],
   "source": [
    "input_structure_file = \"../../tests/testdata/md_ethanol.xyz\"\n",
    "random.seed(42)\n",
    "\n",
    "ats = []\n",
    "for mol_idx in range(30):# load initial structure\n",
    "    mol = read(input_structure_file)\n",
    "    pos = mol.get_positions()\n",
    "    # distort the structures and store them\n",
    "    for n in range(pos.shape[0]):\n",
    "        pos[n] = pos[n] * random.uniform(0.95,1.05)\n",
    "    ats.append(Atoms(positions=pos, numbers=mol.get_atomic_numbers()))"
   ]
  },
  {
   "cell_type": "markdown",
   "id": "5323eaa6",
   "metadata": {},
   "source": [
    "For some systems it helps to fix the positions of certain atoms during the relaxation. This can be achieved by providing a mask of boolean entries to ``ASEBatchwiseLBFGS``. The mask is a list of $n_\\text{atoms}$ entries, indicating atoms, which positions are fixed during the relaxation. Here, we do not fix any atoms. Hence, the mask only contains ``True``."
   ]
  },
  {
   "cell_type": "code",
   "execution_count": null,
   "id": "f2e05da1",
   "metadata": {},
   "outputs": [],
   "source": [
    "# define structure mask for optimization (True for fixed, False for non-fixed)\n",
    "n_atoms = len(ats[0].get_atomic_numbers())\n",
    "single_structure_mask = [False for _ in range(n_atoms)]\n",
    "# expand mask by number of input structures (fixed atoms are equivalent for all input structures)\n",
    "mask = single_structure_mask * len(ats)"
   ]
  },
  {
   "cell_type": "markdown",
   "id": "252b22e8",
   "metadata": {},
   "source": [
    "Finally, we run the optimization:"
   ]
  },
  {
   "cell_type": "code",
   "execution_count": null,
   "id": "e80e2433",
   "metadata": {},
   "outputs": [],
   "source": [
    "# Initialize optimizer\n",
    "optimizer = ASEBatchwiseLBFGS(\n",
    "    calculator=calculator_new,\n",
    "    atoms=ats,\n",
    "    trajectory=\"./howto_batchwise_relaxations_outputs/relax_traj_new\",\n",
    "    verbose=True,\n",
    "    log_every_step=True,\n",
    ")\n",
    "\n",
    "# run optimization\n",
    "optimizer.run(fmax=0.0005, steps=1000)"
   ]
  },
  {
   "cell_type": "code",
   "execution_count": null,
   "id": "2e01e359",
   "metadata": {},
   "outputs": [],
   "source": [
    "# Initialize optimizer\n",
    "optimizer = ASEBatchwiseLBFGS(\n",
    "    calculator=calculator_old,\n",
    "    atoms=ats,\n",
    "    trajectory=\"./howto_batchwise_relaxations_outputs/relax_traj_old\",\n",
    "    verbose=True,\n",
    "    log_every_step=True,\n",
    ")\n",
    "\n",
    "# run optimization\n",
    "optimizer.run(fmax=0.0005, steps=1000)"
   ]
  },
  {
   "cell_type": "code",
   "execution_count": null,
   "id": "d990b532",
   "metadata": {},
   "outputs": [],
   "source": [
    "# Initialize optimizer\n",
    "optimizer = ASEBatchwiseLBFGS(\n",
    "    calculator=calculator_ensemble,\n",
    "    atoms=ats,\n",
    "    trajectory=\"./howto_batchwise_relaxations_outputs/relax_traj_ensemble\",\n",
    "    verbose=True,\n",
    "    log_every_step=True,\n",
    ")\n",
    "\n",
    "# run optimization\n",
    "optimizer.run(fmax=0.0005, steps=1000)"
   ]
  },
  {
   "cell_type": "markdown",
   "id": "1f579c83",
   "metadata": {},
   "source": [
    "Optimzed structures (in the form of ASE `Atoms`) and properties can be obtained with the `get_relaxation_results` function."
   ]
  },
  {
   "cell_type": "code",
   "execution_count": null,
   "id": "1ed93e7d",
   "metadata": {},
   "outputs": [],
   "source": [
    "# get list of optimized structures and properties\n",
    "opt_atoms, opt_props = optimizer.get_relaxation_results()\n",
    "\n",
    "for oatoms in opt_atoms:\n",
    "    print(oatoms.get_positions())\n",
    "    \n",
    "print(opt_props)"
   ]
  },
  {
   "cell_type": "code",
   "execution_count": null,
   "id": "11776e3c",
   "metadata": {},
   "outputs": [],
   "source": []
  }
 ],
 "metadata": {
  "kernelspec": {
   "display_name": "Python 3 (ipykernel)",
   "language": "python",
   "name": "python3"
  },
  "language_info": {
   "codemirror_mode": {
    "name": "ipython",
    "version": 3
   },
   "file_extension": ".py",
   "mimetype": "text/x-python",
   "name": "python",
   "nbconvert_exporter": "python",
   "pygments_lexer": "ipython3",
   "version": "3.8.13"
  }
 },
 "nbformat": 4,
 "nbformat_minor": 5
}
