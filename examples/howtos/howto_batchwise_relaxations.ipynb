{
 "cells": [
  {
   "cell_type": "markdown",
   "id": "d100d71c",
   "metadata": {},
   "source": [
    "# Batch-wise Structure Relaxation"
   ]
  },
  {
   "cell_type": "markdown",
   "id": "cd51dfe1",
   "metadata": {},
   "source": [
    "In this tutorial, we show how to use the ``ASEBatchwiseLBFGS``. It enables relaxation of structures in a batch-wise manner, i.e. it optimizes multiple structures in parallel. This is particularly useful, when many relatively similar structures (--> similar time until convergence) should be relaxed while requiring possibly short simulation time."
   ]
  },
  {
   "cell_type": "code",
   "execution_count": null,
   "id": "3f71b17f",
   "metadata": {},
   "outputs": [],
   "source": [
    "import os\n",
    "import torch\n",
    "import random\n",
    "import shutil\n",
    "import time\n",
    "import numpy as np\n",
    "from tqdm import tqdm \n",
    "from matplotlib import pyplot as plt\n",
    "\n",
    "import ase\n",
    "from ase.io import read, write\n",
    "from ase import Atoms\n",
    "from ase.optimize.lbfgs import LBFGS\n",
    "\n",
    "import schnetpack as spk\n",
    "from schnetpack import properties\n",
    "from schnetpack.interfaces.ase_interface import AtomsConverter, AseInterface\n",
    "from schnetpack.interfaces.batchwise_optimization import ASEBatchwiseLBFGS, BatchwiseCalculator"
   ]
  },
  {
   "cell_type": "markdown",
   "id": "6339e784",
   "metadata": {},
   "source": [
    "First, we load the force field model that provides the forces for the relaxation process. Furthermore, we define the atoms converter, which is used to convert ase Atoms objects to SchNetPack input. Eventually the calculator is initialized. The latter provides the necessary functionality to load a model and calculates forces and energy for the respective structures."
   ]
  },
  {
   "cell_type": "code",
   "execution_count": null,
   "id": "236aaf4f",
   "metadata": {},
   "outputs": [],
   "source": [
    "random.seed(42)\n",
    "batch_size = 30\n",
    "batch_mode = \"random_distortion\""
   ]
  },
  {
   "cell_type": "code",
   "execution_count": null,
   "id": "7be235c2",
   "metadata": {},
   "outputs": [],
   "source": [
    "model_path = \"../../tests/testdata/md_ethanol2.model\"\n",
    "\n",
    "# set device\n",
    "device = torch.device(\"cuda\")\n",
    "\n",
    "# load model\n",
    "model = torch.load(model_path, map_location=device)\n",
    "\n",
    "# define neighbor list\n",
    "cutoff = model.representation.cutoff.item()\n",
    "nbh_list=spk.transform.MatScipyNeighborList(cutoff=cutoff)\n",
    "\n",
    "# build atoms converter\n",
    "atoms_converter = AtomsConverter(\n",
    "    neighbor_list=nbh_list,\n",
    "    device=device,\n",
    ")\n",
    "\n",
    "# build calculator\n",
    "calculator = BatchwiseCalculator(\n",
    "    model=model_path,\n",
    "    atoms_converter=atoms_converter,\n",
    "    device=device,\n",
    "    energy_unit=\"kcal/mol\",\n",
    "    position_unit=\"Ang\",\n",
    "    dtype=torch.float32\n",
    ")"
   ]
  },
  {
   "cell_type": "markdown",
   "id": "66f87158",
   "metadata": {},
   "source": [
    "Subsequently, we load an initial ethanol structure utilizing ASE (supports xyz, db and more) and create a batch of initial structures by random distortion."
   ]
  },
  {
   "cell_type": "code",
   "execution_count": null,
   "id": "78ae8368",
   "metadata": {},
   "outputs": [],
   "source": [
    "if not os.path.exists('howto_batchwise_relaxations_outputs'):\n",
    "    os.makedirs('howto_batchwise_relaxations_outputs')\n",
    "    \n",
    "if batch_mode == \"md_samples\":\n",
    "    \n",
    "    ats = read(\"../../tests/testdata/md_ethanol_batch.xyz\", index=\":\")\n",
    "    for at_idx, at in enumerate(ats):\n",
    "        write(\"./howto_batchwise_relaxations_outputs/init_ethanol_{}.xyz\".format(at_idx), at, format=\"xyz\")  \n",
    "        \n",
    "elif batch_mode == \"random_distortion\":\n",
    "    \n",
    "    input_structure_file = \"../../tests/testdata/md_ethanol.xyz\"\n",
    "\n",
    "    # load initial structure\n",
    "    mol = read(input_structure_file)\n",
    "    pos = mol.get_positions()\n",
    "    # distort the structures and store them\n",
    "    for at_idx in range(batch_size):\n",
    "        for n in range(pos.shape[0]):\n",
    "            pos[n] = pos[n] * random.uniform(0.95,1.15)\n",
    "        at = Atoms(positions=pos, numbers=mol.get_atomic_numbers())\n",
    "        write(\"./howto_batchwise_relaxations_outputs/init_ethanol_{}.xyz\".format(at_idx), at, format=\"xyz\")    \n",
    "        pos = mol.get_positions()\n",
    "\n",
    "    # get list of initial structures\n",
    "    ats = []\n",
    "    for at_idx in range(batch_size):\n",
    "        ats.append(read(\"./howto_batchwise_relaxations_outputs/init_ethanol_{}.xyz\".format(at_idx)))"
   ]
  },
  {
   "cell_type": "markdown",
   "id": "5323eaa6",
   "metadata": {},
   "source": [
    "For some systems it helps to fix the positions of certain atoms during the relaxation. This can be achieved by providing a mask of boolean entries to ``ASEBatchwiseLBFGS``. The mask is a list of $n_\\text{atoms}$ entries, indicating atoms, which positions are fixed during the relaxation. Here, we do not fix any atoms. Hence, the mask only contains ``False``."
   ]
  },
  {
   "cell_type": "code",
   "execution_count": null,
   "id": "f2e05da1",
   "metadata": {},
   "outputs": [],
   "source": [
    "# define structure mask for optimization (True for fixed, False for non-fixed)\n",
    "n_atoms = len(ats[0].get_atomic_numbers())\n",
    "single_structure_mask = [False for _ in range(n_atoms)]\n",
    "# expand mask by number of input structures (fixed atoms are equivalent for all input structures)\n",
    "mask = single_structure_mask * len(ats)"
   ]
  },
  {
   "cell_type": "markdown",
   "id": "252b22e8",
   "metadata": {},
   "source": [
    "Finally, we run the optimization:"
   ]
  },
  {
   "cell_type": "code",
   "execution_count": null,
   "id": "e80e2433",
   "metadata": {
    "scrolled": true
   },
   "outputs": [],
   "source": [
    "# Initialize optimizer\n",
    "optimizer = ASEBatchwiseLBFGS(\n",
    "    calculator=calculator,\n",
    "    atoms=ats,\n",
    "    trajectory=\"./howto_batchwise_relaxations_outputs/relax_traj\",\n",
    "    log_every_step=False,\n",
    "    fixed_atoms_mask=mask,\n",
    "    verbose=False\n",
    ")\n",
    "\n",
    "# run optimization\n",
    "t_start_bw = time.time()\n",
    "optimizer.run(fmax=0.0005, steps=1000)\n",
    "t_end_bw = time.time()\n",
    "relaxation_time_bw = t_end_bw - t_start_bw"
   ]
  },
  {
   "cell_type": "markdown",
   "id": "d89fe16c",
   "metadata": {},
   "source": [
    "To show the advantage of batch-wise relaxations, in the following, we run the structure optimizations sequentially and compare the total computation time both approaches (batch-wise and sequentially)."
   ]
  },
  {
   "cell_type": "code",
   "execution_count": null,
   "id": "bd1a14d8",
   "metadata": {
    "scrolled": true
   },
   "outputs": [],
   "source": [
    "# run individual structure optimizations as reference\n",
    "t_start_indiv = time.time()\n",
    "for at_idx in range(batch_size):\n",
    "\n",
    "    relax_dir = \"howto_batchwise_relaxations_outputs/relax_{}\".format(at_idx)\n",
    "    if os.path.exists(relax_dir):\n",
    "        shutil.rmtree(relax_dir)\n",
    "    os.makedirs(relax_dir)\n",
    "\n",
    "    ase_interface = AseInterface(\n",
    "        molecule_path=\"./howto_batchwise_relaxations_outputs/init_ethanol_{}.xyz\".format(at_idx),\n",
    "        working_dir=relax_dir,\n",
    "        model_file=model_path,\n",
    "        neighbor_list=nbh_list,\n",
    "        device=device,\n",
    "        dtype=torch.float32,\n",
    "        energy_unit=\"kcal/mol\",\n",
    "        position_unit=\"Ang\",\n",
    "        optimizer_class=LBFGS,\n",
    "    )\n",
    "    ase_interface.optimize(fmax=0.0005, steps=1000)\n",
    "\n",
    "t_end_indiv = time.time()\n",
    "relaxation_time_indiv = t_end_indiv - t_start_indiv"
   ]
  },
  {
   "cell_type": "code",
   "execution_count": null,
   "id": "47914bd0",
   "metadata": {},
   "outputs": [],
   "source": [
    "# print out time difference\n",
    "print(\"\\n\" \\\n",
    "      \"The batch-wise relaxation took %.3f seconds on your %s device\\n\" \\\n",
    "      \"while individual structure relaxations would take %.3f seconds on the same device.\\n\" \\\n",
    "      \"You saved %.3f seconds\" % \n",
    "      (relaxation_time_bw, device, relaxation_time_indiv, relaxation_time_indiv - relaxation_time_bw))"
   ]
  },
  {
   "cell_type": "markdown",
   "id": "1f579c83",
   "metadata": {},
   "source": [
    "Optimzed structures (in the form of ASE `Atoms`) and properties can be obtained with the `get_relaxation_results` function."
   ]
  },
  {
   "cell_type": "code",
   "execution_count": null,
   "id": "1ed93e7d",
   "metadata": {},
   "outputs": [],
   "source": [
    "# get list of optimized structures and properties\n",
    "opt_atoms, opt_props = optimizer.get_relaxation_results()\n",
    "\n",
    "for oatoms in opt_atoms:\n",
    "    print(oatoms.get_positions())\n",
    "    \n",
    "print(opt_props)"
   ]
  },
  {
   "cell_type": "markdown",
   "id": "c8ad3ffe",
   "metadata": {},
   "source": [
    "Neglecting small variations due to numerical errors, both approaches provide the same results. We verify this by comparing the root mean square distances (RMSD) between the relaxed structures."
   ]
  },
  {
   "cell_type": "code",
   "execution_count": null,
   "id": "0405a544",
   "metadata": {
    "scrolled": true
   },
   "outputs": [],
   "source": [
    "# get all rmsds\n",
    "rmsds = []\n",
    "for traj_idx in range(batch_size):\n",
    "\n",
    "    traj_file_1 = \"./howto_batchwise_relaxations_outputs/relax_traj_{}.xyz\".format(traj_idx)\n",
    "    traj_file_2 = \"./howto_batchwise_relaxations_outputs/relax_{}/optimization.traj\".format(traj_idx)\n",
    "\n",
    "    traj_ats_1 = read(traj_file_1, index=\"-1:\")\n",
    "    traj_ats_2 = read(traj_file_2, index=\"-1:\")\n",
    "\n",
    "    for step_idx, (at_i, at_j) in enumerate(zip(traj_ats_1, traj_ats_2)):\n",
    "        # rotate and translate to minimize rmsd\n",
    "        ase.build.minimize_rotation_and_translation(at_i, at_j)\n",
    "\n",
    "        # store reference and current structure in one atom object for visual comparison with \"ase gui\"\n",
    "        pos_store = np.concatenate((at_i.get_positions(), at_j.get_positions()), axis=0)\n",
    "        at_nums_store = np.concatenate((at_i.get_atomic_numbers(), at_j.get_atomic_numbers()), axis=0)\n",
    "        at_store = Atoms(positions=pos_store, numbers=at_nums_store)\n",
    "        write(\n",
    "            os.path.join(\"./howto_batchwise_relaxations_outputs/comp.xyz\"),\n",
    "            at_store,\n",
    "            format=\"extxyz\",\n",
    "            append=False if step_idx == 0 and traj_idx == 0 else True,\n",
    "        )\n",
    "\n",
    "        # calculate rmsd\n",
    "        squared_distances = (at_i.get_positions() - at_j.get_positions()) ** 2\n",
    "        rmsds.append(squared_distances.sum(1).mean())\n",
    "\n",
    "print(\"RMSD_max = %.2fe-9 A\" % (max(rmsds) * 1e9))"
   ]
  },
  {
   "cell_type": "code",
   "execution_count": null,
   "id": "336f30a4",
   "metadata": {},
   "outputs": [],
   "source": [
    "figure = plt.figure()\n",
    "plt.scatter(range(len(rmsds)), rmsds)\n",
    "plt.xlabel(\"sample index\")\n",
    "plt.ylabel(\"RMSD (Angstrom)\")\n",
    "plt.show()"
   ]
  },
  {
   "cell_type": "markdown",
   "id": "f5eb9fa7",
   "metadata": {},
   "source": [
    "Now we concatenate the relaxation results of the batch-wise and sequential relaxation, respectively."
   ]
  },
  {
   "cell_type": "code",
   "execution_count": null,
   "id": "674d187b",
   "metadata": {},
   "outputs": [],
   "source": [
    "ats_sequ = []\n",
    "ats_batch = []\n",
    "for traj_idx in range(batch_size):\n",
    "    \n",
    "    traj_file_1 = \"./howto_batchwise_relaxations_outputs/relax_traj_{}.xyz\".format(traj_idx)\n",
    "    traj_file_2 = \"./howto_batchwise_relaxations_outputs/relax_{}/optimization.traj\".format(traj_idx)\n",
    "    \n",
    "    ats_batch.append(read(traj_file_1))\n",
    "    ats_sequ.append(read(traj_file_2))\n",
    "    \n",
    "write(\n",
    "    os.path.join(\"./howto_batchwise_relaxations_outputs/sequ_ats.xyz\"),\n",
    "    ats_sequ,\n",
    "    format=\"extxyz\",\n",
    ")\n",
    "write(\n",
    "    os.path.join(\"./howto_batchwise_relaxations_outputs/batch_ats.xyz\"),\n",
    "    ats_batch,\n",
    "    format=\"extxyz\",\n",
    ")\n"
   ]
  },
  {
   "cell_type": "code",
   "execution_count": null,
   "id": "7ae03819",
   "metadata": {},
   "outputs": [],
   "source": []
  }
 ],
 "metadata": {
  "kernelspec": {
   "display_name": "Python 3 (ipykernel)",
   "language": "python",
   "name": "python3"
  },
  "language_info": {
   "codemirror_mode": {
    "name": "ipython",
    "version": 3
   },
   "file_extension": ".py",
   "mimetype": "text/x-python",
   "name": "python",
   "nbconvert_exporter": "python",
   "pygments_lexer": "ipython3",
   "version": "3.8.13"
  }
 },
 "nbformat": 4,
 "nbformat_minor": 5
}
